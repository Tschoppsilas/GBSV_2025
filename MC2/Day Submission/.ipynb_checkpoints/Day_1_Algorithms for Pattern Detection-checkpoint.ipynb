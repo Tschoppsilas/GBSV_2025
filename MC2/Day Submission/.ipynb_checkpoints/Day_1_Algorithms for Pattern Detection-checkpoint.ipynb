{
 "cells": [
  {
   "cell_type": "markdown",
   "id": "499a413a2b11761b",
   "metadata": {},
   "source": [
    "## Tag 1: Muster und Algorithmus auswählen\n",
    "Wählen Sie einen klassischen Bildverarbeitungs\n",
    "Algorithmus zur Erkennung von Mustern wie Kanten, Linien, Kreisen oder Ecken.\n",
    "Implementieren Sie jeden relevanten Schritt Ihres Mustererkennungsalgorithmus. Die\n",
    "einzelnen Schritte des Algorithmus können Sie selbst programmieren oder Bibliotheken verwenden.\n",
    "Wichtig ist jedoch, dass die jeweiligen Zwischenergebnisse der Schritte\n",
    "in den Folgeaufgaben demonstriert werden können. Beginnen Sie ein neues Notebook.\n",
    "\n"
   ]
  },
  {
   "cell_type": "code",
   "execution_count": 8,
   "id": "initial_id",
   "metadata": {
    "ExecuteTime": {
     "end_time": "2025-04-28T19:12:00.442550Z",
     "start_time": "2025-04-28T19:12:00.418457Z"
    },
    "collapsed": true,
    "jupyter": {
     "outputs_hidden": true
    }
   },
   "outputs": [],
   "source": [
    "import cv2\n",
    "import numpy as np\n",
    "\n",
    "\n",
    "#Gauss-Filter zur Glättung (Rauschreduzierung)\n",
    "def blurr(img, kernel_size=(5,5), sigma=1.4):\n",
    "    blurred = cv2.GaussianBlur(img, kernel_size, sigma)\n",
    "    return blurred\n",
    "\n",
    "# Gradienten mit Sobel-Operator berechnen\n",
    "def compute_gradient(blurred_img, ksize=3):\n",
    "    sobel_x = cv2.Sobel(blurred_img, cv2.CV_64F, 1, 0, ksize=ksize)\n",
    "    sobel_y = cv2.Sobel(blurred_img, cv2.CV_64F, 0, 1, ksize=ksize)\n",
    "    gradient_magnitude = np.hypot(sobel_x, sobel_y)\n",
    "    gradient_direction = np.arctan2(sobel_y, sobel_x)\n",
    "    return gradient_magnitude, gradient_direction\n",
    "    \n",
    "\n",
    "#Non-Maximum Suppression\n",
    "def non_max_suppression(magnitude, direction):\n",
    "    M, N = magnitude.shape\n",
    "    output = np.zeros((M,N), dtype=np.float32)\n",
    "    angle = direction * 180. / np.pi\n",
    "    angle[angle < 0] += 180\n",
    "    \n",
    "    for i in range(1, M-1):\n",
    "        for j in range(1, N-1):\n",
    "            try:\n",
    "                q = 255\n",
    "                r = 255\n",
    "\n",
    "                # Winkelbereiche einteilen\n",
    "                if (0 <= angle[i,j] < 22.5) or (157.5 <= angle[i,j] <= 180):\n",
    "                    q = magnitude[i, j+1]\n",
    "                    r = magnitude[i, j-1]\n",
    "                elif (22.5 <= angle[i,j] < 67.5):\n",
    "                    q = magnitude[i+1, j-1]\n",
    "                    r = magnitude[i-1, j+1]\n",
    "                elif (67.5 <= angle[i,j] < 112.5):\n",
    "                    q = magnitude[i+1, j]\n",
    "                    r = magnitude[i-1, j]\n",
    "                elif (112.5 <= angle[i,j] < 157.5):\n",
    "                    q = magnitude[i-1, j-1]\n",
    "                    r = magnitude[i+1, j+1]\n",
    "\n",
    "                if (magnitude[i,j] >= q) and (magnitude[i,j] >= r):\n",
    "                    output[i,j] = magnitude[i,j]\n",
    "                else:\n",
    "                    output[i,j] = 0\n",
    "\n",
    "            except IndexError as e:\n",
    "                pass\n",
    "\n",
    "    return output\n",
    "\n",
    "#Hysterese-Schwellenwertverfahren\n",
    "def hysteresis(img, low, high):\n",
    "    M, N = img.shape\n",
    "    res = np.zeros((M,N), dtype=np.uint8)\n",
    "\n",
    "    strong = 255\n",
    "    weak = 75\n",
    "\n",
    "    strong_i, strong_j = np.where(img >= high)\n",
    "    weak_i, weak_j = np.where((img <= high) & (img >= low))\n",
    "\n",
    "    res[strong_i, strong_j] = strong\n",
    "    res[weak_i, weak_j] = weak\n",
    "\n",
    "    # Verbindung schwacher mit starken Kanten (8-neighbors)\n",
    "    for i in range(1, M-1):\n",
    "        for j in range(1, N-1):\n",
    "            if res[i,j] == weak:\n",
    "                if ((res[i+1, j-1] == strong) or (res[i+1, j] == strong) or (res[i+1, j+1] == strong)\n",
    "                    or (res[i, j-1] == strong) or (res[i, j+1] == strong)\n",
    "                    or (res[i-1, j-1] == strong) or (res[i-1, j] == strong) or (res[i-1, j+1] == strong)):\n",
    "                    res[i,j] = strong\n",
    "                else:\n",
    "                    res[i,j] = 0\n",
    "\n",
    "    return res\n"
   ]
  }
 ],
 "metadata": {
  "kernelspec": {
   "display_name": "Python 3 (ipykernel)",
   "language": "python",
   "name": "python3"
  },
  "language_info": {
   "codemirror_mode": {
    "name": "ipython",
    "version": 3
   },
   "file_extension": ".py",
   "mimetype": "text/x-python",
   "name": "python",
   "nbconvert_exporter": "python",
   "pygments_lexer": "ipython3",
   "version": "3.11.12"
  }
 },
 "nbformat": 4,
 "nbformat_minor": 5
}
