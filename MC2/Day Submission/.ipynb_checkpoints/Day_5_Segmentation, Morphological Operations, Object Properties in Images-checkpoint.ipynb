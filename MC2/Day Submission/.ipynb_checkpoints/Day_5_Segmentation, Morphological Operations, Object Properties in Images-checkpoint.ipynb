{
 "cells": [
  {
   "metadata": {},
   "cell_type": "markdown",
   "source": [
    "# GitHub-Link\n",
    "https://github.com/Tschoppsilas/GBSV_2025.git"
   ],
   "id": "26bea7e52661e7d9"
  },
  {
   "metadata": {},
   "cell_type": "markdown",
   "source": [
    "# Tag 1\n",
    "## Anwendungsfalls\n",
    "In traditionellen Schweizer Alpkäsereien lagern Käselaibe auf Holzregalen zur Reifung. Eine automatisierte Erkennung und Zählung dieser Laibe auf Bildern – z.B. aus einer Produktionsüberwachung oder einem Kontrollsystem – kann zur Qualitätskontrolle, Bestandsaufnahme oder Prozessoptimierung beitragen. Besonders in kleinen, handwerklichen Betrieben kann so der Aufwand reduziert und die Nachverfolgbarkeit verbessert werden.\n",
    "\n",
    "## Problemstellung\n",
    "Die Käselaibe haben meist eine gleichmässige, runde Form und eine gelblich-bräunliche Färbung, die sich vom Holzregal oder dem dunkleren Reiferaumhintergrund abhebt. Je nach Lichtverhältnissen, Schatten oder teilweiser Überlappung kann die visuelle Trennung jedoch schwierig sein. Ziel ist es, diese gleichartigen Objekte automatisch zu segmentieren, ohne manuelles Zählen. Dies kann insbesondere dann herausfordernd sein, wenn Laibe eng beieinander liegen oder teilweise verdeckt sind.\n",
    "\n",
    "## Ziel der Segmentierung\n",
    "Durch die Segmentierung der Käselaibe im Bild soll eine zuverlässige Zählung, Lokalisierung und ggf. Flächenschätzung einzelner Laibe ermöglicht werden. Die daraus gewonnenen Daten können genutzt werden, um Lagerbestände zu automatisieren, Reifeverläufe über Zeiträume zu dokumentieren oder auch visuelle Auffälligkeiten (z.B. Schimmelbildung) frühzeitig zu erkennen – ein praktischer Nutzen für die Lebensmittelüberwachung und das digitale Alpkäsemanagement.\n",
    "\n",
    "## Bild\n",
    "![Kaeselaibe im Regal](../data/Kaese.jpg)\n",
    "\n",
    "Quelle: https://www.loisirs.ch/agendas/32860/les-secrets-de-la-fabrication-de-fromage-d-alpage-a-la-poyettaz\n"
   ],
   "id": "82ca230ff00a121c"
  },
  {
   "metadata": {},
   "cell_type": "code",
   "outputs": [],
   "execution_count": null,
   "source": "",
   "id": "7ad58aa7605bf715"
  }
 ],
 "metadata": {
  "kernelspec": {
   "display_name": "Python 3",
   "language": "python",
   "name": "python3"
  },
  "language_info": {
   "codemirror_mode": {
    "name": "ipython",
    "version": 2
   },
   "file_extension": ".py",
   "mimetype": "text/x-python",
   "name": "python",
   "nbconvert_exporter": "python",
   "pygments_lexer": "ipython2",
   "version": "2.7.6"
  }
 },
 "nbformat": 4,
 "nbformat_minor": 5
}
