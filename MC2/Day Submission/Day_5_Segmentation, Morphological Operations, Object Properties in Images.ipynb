{
 "cells": [
  {
   "metadata": {},
   "cell_type": "markdown",
   "source": [
    "# GitHub-Link\n",
    "https://github.com/Tschoppsilas/GBSV_2025.git"
   ],
   "id": "26bea7e52661e7d9"
  },
  {
   "metadata": {},
   "cell_type": "markdown",
   "source": [
    "# Tag 1\n",
    "## Anwendungsfalls\n",
    "In der Schweizer Landwirtschaft – insbesondere in alpinen Regionen – kann es relevant sein, Nutztiere wie Kühe auf Weiden automatisch zu zählen und zu lokalisieren, z.B. mithilfe von Drohnenbildern. Dies kann für die Almwirtschaft, Tierkontrolle oder Futterbedarfsermittlung eingesetzt werden.\n",
    "\n",
    "## Problemstellung\n",
    "Kühe befinden sich oft auf weitläufigen, natürlichen Weideflächen mit unregelmässigem Hintergrund (Gras, Bäume, Schatten). Die Herausforderung besteht darin, ähnliche Objekte (Kühe) aus einem visuell komplexen Bild automatisch zu segmentieren. Diese Tiere können sich in Farbe und Form ähneln, aber teilweise überlappen, im Schatten stehen oder vom Hintergrund schlecht abgehoben sein. Manuelle Zählungen oder Ortungen sind aufwendig und fehleranfällig – ein automatisierter Ansatz mittels Bildverarbeitung könnte hier deutlich effizienter sein.\n",
    "\n",
    "## Ziel der Segmentierung\n",
    "Durch die Segmentierung der Kühe im Bild soll eine zuverlässige Zählung und Lokalisierung ermöglicht werden. Aus den segmentierten Objekten lassen sich die Tieranzahl ableiten – was wiederum in automatisierte Herdenmanagementsysteme, Umweltmonitoring oder landwirtschaftliche Planung integriert werden kann.\n",
    "\n",
    "## Bild\n",
    "![Kühe auf der Alm](Kuh_alm.jpg)\n"
   ],
   "id": "82ca230ff00a121c"
  },
  {
   "metadata": {},
   "cell_type": "code",
   "outputs": [],
   "execution_count": null,
   "source": "",
   "id": "7ad58aa7605bf715"
  }
 ],
 "metadata": {
  "kernelspec": {
   "display_name": "Python 3",
   "language": "python",
   "name": "python3"
  },
  "language_info": {
   "codemirror_mode": {
    "name": "ipython",
    "version": 2
   },
   "file_extension": ".py",
   "mimetype": "text/x-python",
   "name": "python",
   "nbconvert_exporter": "python",
   "pygments_lexer": "ipython2",
   "version": "2.7.6"
  }
 },
 "nbformat": 4,
 "nbformat_minor": 5
}
